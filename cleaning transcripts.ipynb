{
 "cells": [
  {
   "cell_type": "code",
   "execution_count": 1,
   "id": "07bc9041-19c6-4efd-8796-6aa60848a399",
   "metadata": {},
   "outputs": [
    {
     "name": "stderr",
     "output_type": "stream",
     "text": [
      "C:\\Users\\pierr\\AppData\\Local\\Programs\\Python\\Python312\\Lib\\site-packages\\whisper\\__init__.py:150: FutureWarning: You are using `torch.load` with `weights_only=False` (the current default value), which uses the default pickle module implicitly. It is possible to construct malicious pickle data which will execute arbitrary code during unpickling (See https://github.com/pytorch/pytorch/blob/main/SECURITY.md#untrusted-models for more details). In a future release, the default value for `weights_only` will be flipped to `True`. This limits the functions that could be executed during unpickling. Arbitrary objects will no longer be allowed to be loaded via this mode unless they are explicitly allowlisted by the user via `torch.serialization.add_safe_globals`. We recommend you start setting `weights_only=True` for any use case where you don't have full control of the loaded file. Please open an issue on GitHub for any issues related to this experimental feature.\n",
      "  checkpoint = torch.load(fp, map_location=device)\n"
     ]
    }
   ],
   "source": [
    "import whisper\n",
    "model = whisper.load_model(\"small\")"
   ]
  },
  {
   "cell_type": "code",
   "execution_count": 5,
   "id": "48502203-0b46-4ebb-95db-70037af5860c",
   "metadata": {},
   "outputs": [],
   "source": [
    "import os\n",
    "from pathlib import Path\n",
    "\n",
    "def process_audio_files(directory_path):\n",
    "    # Convert to Path object for better cross-platform compatibility\n",
    "    audio_dir = Path(directory_path)\n",
    "    \n",
    "    # Ensure directory exists\n",
    "    if not audio_dir.exists():\n",
    "        raise FileNotFoundError(f\"Directory not found: {directory_path}\")\n",
    "    \n",
    "    # Create or open output file in append mode\n",
    "    with open(\"D:\\\\project\\\\output.txt\", \"a\", encoding=\"utf-8\") as output_file:\n",
    "        # Iterate through all files in directory\n",
    "        for audio_file in audio_dir.iterdir():\n",
    "            if audio_file.is_file():  # Make sure it's a file, not a subdirectory\n",
    "                try:\n",
    "                    # Get the transcription\n",
    "                    transcription = model.transcribe(audio_file)\n",
    "                    \n",
    "                    # Write to output file with file name for reference\n",
    "                    output_file.write(f\"\\n\\n--- Transcription for {audio_file.name} ---\\n\")\n",
    "                    output_file.write(transcription[text])\n",
    "                    \n",
    "                    print(f\"Successfully processed: {audio_file.name}\")\n",
    "                    \n",
    "                except Exception as e:\n",
    "                    print(f\"Error processing {audio_file.name}: {str(e)}\")\n",
    "                    # Optionally log errors to output file\n",
    "                    output_file.write(f\"\\n\\nError processing {audio_file.name}: {str(e)}\\n\")\n"
   ]
  },
  {
   "cell_type": "code",
   "execution_count": null,
   "id": "6f6739ca-c8d6-497a-a403-adbd06b59d75",
   "metadata": {},
   "outputs": [
    {
     "name": "stdout",
     "output_type": "stream",
     "text": [
      "Error processing WhatsApp Audio 2024-11-16 at 08.55.49_42236c64.mp3: write() argument must be str, not dict\n",
      "Error processing WhatsApp Audio 2024-11-16 at 08.55.49_f2260982.mp3: write() argument must be str, not dict\n",
      "Error processing WhatsApp Audio 2024-11-16 at 09.01.58_f23f3b05.mp3: write() argument must be str, not dict\n",
      "Error processing WhatsApp Audio 2024-11-16 at 09.07.32_ac7ffb35.mp3: write() argument must be str, not dict\n",
      "Error processing WhatsApp Audio 2024-11-18 at 13.41.29_c54ea82c.mp3: write() argument must be str, not dict\n"
     ]
    }
   ],
   "source": [
    "if __name__ == \"__main__\":\n",
    "    # Specify the directory path\n",
    "    audio_directory = \"D:/project/Audio_Files\"\n",
    "    \n",
    "    try:\n",
    "        process_audio_files(str(audio_directory))\n",
    "        print(\"Processing completed. Results saved to output.txt\")\n",
    "    except Exception as e:\n",
    "        print(f\"An error occurred: {str(e)}\")"
   ]
  },
  {
   "cell_type": "code",
   "execution_count": null,
   "id": "b7574112-99c4-4173-ac27-af41d400cd9d",
   "metadata": {},
   "outputs": [],
   "source": []
  }
 ],
 "metadata": {
  "kernelspec": {
   "display_name": "Python 3 (ipykernel)",
   "language": "python",
   "name": "python3"
  },
  "language_info": {
   "codemirror_mode": {
    "name": "ipython",
    "version": 3
   },
   "file_extension": ".py",
   "mimetype": "text/x-python",
   "name": "python",
   "nbconvert_exporter": "python",
   "pygments_lexer": "ipython3",
   "version": "3.12.3"
  }
 },
 "nbformat": 4,
 "nbformat_minor": 5
}

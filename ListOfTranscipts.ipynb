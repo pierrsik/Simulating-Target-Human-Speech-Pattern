{
 "cells": [
  {
   "cell_type": "code",
   "execution_count": 1,
   "id": "1574bd44-891b-4b3d-a668-472988594b3e",
   "metadata": {
    "scrolled": true
   },
   "outputs": [
    {
     "name": "stderr",
     "output_type": "stream",
     "text": [
      "C:\\Users\\pierr\\AppData\\Local\\Programs\\Python\\Python312\\Lib\\site-packages\\whisper\\__init__.py:150: FutureWarning: You are using `torch.load` with `weights_only=False` (the current default value), which uses the default pickle module implicitly. It is possible to construct malicious pickle data which will execute arbitrary code during unpickling (See https://github.com/pytorch/pytorch/blob/main/SECURITY.md#untrusted-models for more details). In a future release, the default value for `weights_only` will be flipped to `True`. This limits the functions that could be executed during unpickling. Arbitrary objects will no longer be allowed to be loaded via this mode unless they are explicitly allowlisted by the user via `torch.serialization.add_safe_globals`. We recommend you start setting `weights_only=True` for any use case where you don't have full control of the loaded file. Please open an issue on GitHub for any issues related to this experimental feature.\n",
      "  checkpoint = torch.load(fp, map_location=device)\n"
     ]
    }
   ],
   "source": [
    "import whisper\n",
    "model = whisper.load_model(\"small\")"
   ]
  },
  {
   "cell_type": "code",
   "execution_count": 2,
   "id": "25b9f1e0-d030-4f7d-9538-cb30b1651745",
   "metadata": {},
   "outputs": [],
   "source": [
    "import os\n",
    "from pathlib import Path\n",
    "\n",
    "def process_audio_files(directory_path):\n",
    "    # Convert to Path object for better cross-platform compatibility\n",
    "    audio_dir = Path(directory_path)\n",
    "    \n",
    "    # Ensure directory exists\n",
    "    if not audio_dir.exists():\n",
    "        raise FileNotFoundError(f\"Directory not found: {directory_path}\")\n",
    "    \n",
    "    # Load Whisper model (adjust size if needed)\n",
    "    model = whisper.load_model(\"small\")\n",
    "\n",
    "    # Create or open output file in append mode\n",
    "    with open(\"D:\\\\project\\\\output.txt\", \"a\", encoding=\"utf-8\") as output_file:\n",
    "        # Iterate through all files in directory\n",
    "        for audio_file in audio_dir.iterdir():\n",
    "            if audio_file.is_file():  # Make sure it's a file, not a subdirectory\n",
    "                try:\n",
    "                    # Get the transcription\n",
    "                    transcription = model.transcribe(str(audio_file))\n",
    "                    \n",
    "                    # Write to output file with file name for reference\n",
    "                    output_file.write(f\"\\n\\n******************************\\n\\n\\n\")\n",
    "                    output_file.write(transcription[\"text\"])  # Fix: Extract text from dict\n",
    "                    \n",
    "                    print(f\"Successfully processed: {audio_file.name}\")\n",
    "                    \n",
    "                except Exception as e:\n",
    "                    print(f\"Error processing {audio_file.name}: {str(e)}\")\n",
    "                    # Optionally log errors to output file\n",
    "                    output_file.write(f\"\\n\\nError processing {audio_file.name}: {str(e)}\\n\")"
   ]
  },
  {
   "cell_type": "code",
   "execution_count": 3,
   "id": "abc1af98-27c7-4271-89e8-a286a6917077",
   "metadata": {},
   "outputs": [
    {
     "name": "stdout",
     "output_type": "stream",
     "text": [
      "Successfully processed: WhatsApp Audio 2024-11-16 at 08.55.49_42236c64.mp3\n",
      "Successfully processed: WhatsApp Audio 2024-11-16 at 08.55.49_f2260982.mp3\n",
      "Successfully processed: WhatsApp Audio 2024-11-16 at 09.01.58_f23f3b05.mp3\n",
      "Successfully processed: WhatsApp Audio 2024-11-16 at 09.07.32_ac7ffb35.mp3\n",
      "Successfully processed: WhatsApp Audio 2024-11-18 at 13.41.29_c54ea82c.mp3\n",
      "Successfully processed: WhatsApp Audio 2024-12-21 at 20.11.50_7784000f.mp3\n",
      "Successfully processed: WhatsApp Audio 2024-12-22 at 08.45.55_0e6bd6c2.opus\n",
      "Successfully processed: WhatsApp Audio 2024-12-25 at 08.13.35_b2ccd00c.mp3\n",
      "Successfully processed: WhatsApp Audio 2024-12-25 at 08.22.55_8ea34196.mp3\n",
      "Successfully processed: WhatsApp Audio 2025-02-09 at 11.01.52_8c8a7e24.mp3\n",
      "Successfully processed: WhatsApp Audio 2025-02-09 at 11.01.52_c78be9b7.mp3\n",
      "Successfully processed: WhatsApp Audio 2025-02-09 at 12.00.18_35bb2a7f.mp3\n",
      "Successfully processed: WhatsApp Audio 2025-02-09 at 12.06.34_a39313f8.mp3\n",
      "Successfully processed: WhatsApp Audio 2025-02-09 at 12.14.33_f2d2a1f1.mp3\n",
      "Successfully processed: WhatsApp Audio 2025-02-14 at 20.43.51_49cae481.mp3\n",
      "Successfully processed: WhatsApp Audio 2025-02-14 at 20.53.44_489d1906.mp3\n",
      "Successfully processed: WhatsApp Audio 2025-02-16 at 15.11.07_da52bd5d.mp3\n",
      "Successfully processed: WhatsApp Audio 2025-03-08 at 08.06.41_2282eeae.mp3\n",
      "Successfully processed: WhatsApp Audio 2025-03-08 at 08.06.41_a767ce31.mp3\n",
      "Successfully processed: WhatsApp Audio 2025-03-08 at 08.06.42_7114d518.mp3\n",
      "Successfully processed: WhatsApp Audio 2025-03-08 at 08.12.45_3b0c3fdf.mp3\n",
      "Processing completed. Results saved to output.txt\n"
     ]
    }
   ],
   "source": [
    "if __name__ == \"__main__\":\n",
    "    # Specify the directory path\n",
    "    audio_directory = \"D:/project/Audio_Files\"\n",
    "    \n",
    "    try:\n",
    "        process_audio_files(audio_directory)\n",
    "        print(\"Processing completed. Results saved to output.txt\")\n",
    "    except Exception as e:\n",
    "        print(f\"An error occurred: {str(e)}\")"
   ]
  },
  {
   "cell_type": "code",
   "execution_count": null,
   "id": "8c8819b7-2d5d-4999-9575-9773cd311ec5",
   "metadata": {},
   "outputs": [],
   "source": []
  }
 ],
 "metadata": {
  "kernelspec": {
   "display_name": "Python 3 (ipykernel)",
   "language": "python",
   "name": "python3"
  },
  "language_info": {
   "codemirror_mode": {
    "name": "ipython",
    "version": 3
   },
   "file_extension": ".py",
   "mimetype": "text/x-python",
   "name": "python",
   "nbconvert_exporter": "python",
   "pygments_lexer": "ipython3",
   "version": "3.12.3"
  }
 },
 "nbformat": 4,
 "nbformat_minor": 5
}
